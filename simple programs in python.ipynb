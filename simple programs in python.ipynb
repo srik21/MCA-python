{
 "cells": [
  {
   "cell_type": "code",
   "execution_count": 1,
   "id": "ed1436c3",
   "metadata": {},
   "outputs": [
    {
     "name": "stdout",
     "output_type": "stream",
     "text": [
      "<class 'float'>\n"
     ]
    }
   ],
   "source": [
    "#1)\n",
    "a=1.2\n",
    "print(type(a))"
   ]
  },
  {
   "cell_type": "code",
   "execution_count": 2,
   "id": "1fa9d593",
   "metadata": {},
   "outputs": [
    {
     "name": "stdout",
     "output_type": "stream",
     "text": [
      "Enter the Number: 50\n",
      "Its less than 60\n"
     ]
    }
   ],
   "source": [
    "#2)\n",
    "a=int(input(\"Enter the Number: \"))\n",
    "if a<60:\n",
    "    print(\"Its less than 60\")\n",
    "else:\n",
    "    print(\"Its Greater than 60\")"
   ]
  },
  {
   "cell_type": "code",
   "execution_count": 3,
   "id": "ccc44c6d",
   "metadata": {},
   "outputs": [
    {
     "name": "stdout",
     "output_type": "stream",
     "text": [
      "2 4 6 8 10 12 14 16 18 20 "
     ]
    }
   ],
   "source": [
    "#3)\n",
    "start_number=2\n",
    "end_number=50\n",
    "count=0\n",
    "for num in range(start_number,end_number,2):\n",
    "    if count<10:\n",
    "        print(num,end=\" \")\n",
    "        count+=1\n",
    "    else:\n",
    "        break"
   ]
  },
  {
   "cell_type": "code",
   "execution_count": 4,
   "id": "63caee52",
   "metadata": {},
   "outputs": [
    {
     "name": "stdout",
     "output_type": "stream",
     "text": [
      "50 50 50 50\n"
     ]
    }
   ],
   "source": [
    "#4)\n",
    "x1=y1=z1=w1=50\n",
    "print(x1,y1,z1,w1)"
   ]
  },
  {
   "cell_type": "code",
   "execution_count": 6,
   "id": "6e9b9a97",
   "metadata": {},
   "outputs": [
    {
     "name": "stdout",
     "output_type": "stream",
     "text": [
      "Enter the Number9\n",
      "Divisible by 2 or 3\n"
     ]
    }
   ],
   "source": [
    "#5)\n",
    "a=int(input(\"Enter the Number\"))\n",
    "if a%3==0 or a%2==0:\n",
    "    print(\"Divisible by 2 or 3\")\n",
    "else:\n",
    "    print(\"its not divisible 2 and 3\")"
   ]
  },
  {
   "cell_type": "code",
   "execution_count": 7,
   "id": "e3cead0e",
   "metadata": {},
   "outputs": [
    {
     "name": "stdout",
     "output_type": "stream",
     "text": [
      "Enter p 10\n",
      "Enter r% 10\n",
      "Enter t 1\n",
      "1.0\n"
     ]
    }
   ],
   "source": [
    "#6)\n",
    "p=int(input(\"Enter p \"))\n",
    "r=int(input(\"Enter r% \"))\n",
    "t=int(input(\"Enter t \"))\n",
    "SI=(p*r*t)/100\n",
    "print(SI)"
   ]
  },
  {
   "cell_type": "code",
   "execution_count": 8,
   "id": "7505eafa",
   "metadata": {},
   "outputs": [
    {
     "name": "stdout",
     "output_type": "stream",
     "text": [
      "hello 12 2.5\n"
     ]
    }
   ],
   "source": [
    "#7)\n",
    "var_string,var_integer,var_float=\"hello\",12,2.5\n",
    "print(var_string,var_integer,var_float)"
   ]
  },
  {
   "cell_type": "code",
   "execution_count": 9,
   "id": "23a9dc52",
   "metadata": {},
   "outputs": [
    {
     "name": "stdout",
     "output_type": "stream",
     "text": [
      "Enter the Value: 40\n",
      "Avarage\n"
     ]
    }
   ],
   "source": [
    "#8)\n",
    "a=int(input(\"Enter the Value: \"))\n",
    "if a<=40:\n",
    "    print(\"Avarage\")\n",
    "elif a>40 and a<=50:\n",
    "    print(\"Good\")\n",
    "else:\n",
    "    print(\"Very Good\")"
   ]
  },
  {
   "cell_type": "code",
   "execution_count": 10,
   "id": "5ba9f51b",
   "metadata": {},
   "outputs": [
    {
     "name": "stdout",
     "output_type": "stream",
     "text": [
      "Enter the Number? 12\n",
      "479001600\n"
     ]
    }
   ],
   "source": [
    "#9)\n",
    "i=int(input(\"Enter the Number? \"))\n",
    "fact=1\n",
    "while i>0:\n",
    "    fact=fact*i\n",
    "    i=i-1\n",
    "print(fact)    "
   ]
  },
  {
   "cell_type": "code",
   "execution_count": 11,
   "id": "1d4d998d",
   "metadata": {},
   "outputs": [
    {
     "name": "stdout",
     "output_type": "stream",
     "text": [
      "20\n"
     ]
    },
    {
     "ename": "NameError",
     "evalue": "name 'z' is not defined",
     "output_type": "error",
     "traceback": [
      "\u001b[1;31m---------------------------------------------------------------------------\u001b[0m",
      "\u001b[1;31mNameError\u001b[0m                                 Traceback (most recent call last)",
      "\u001b[1;32m~\\AppData\\Local\\Temp\\ipykernel_11808\\1476053903.py\u001b[0m in \u001b[0;36m<module>\u001b[1;34m\u001b[0m\n\u001b[0;32m      3\u001b[0m \u001b[0mprint\u001b[0m\u001b[1;33m(\u001b[0m\u001b[0mz\u001b[0m\u001b[1;33m)\u001b[0m\u001b[1;33m\u001b[0m\u001b[1;33m\u001b[0m\u001b[0m\n\u001b[0;32m      4\u001b[0m \u001b[1;32mdel\u001b[0m \u001b[0mz\u001b[0m\u001b[1;33m\u001b[0m\u001b[1;33m\u001b[0m\u001b[0m\n\u001b[1;32m----> 5\u001b[1;33m \u001b[0mprint\u001b[0m\u001b[1;33m(\u001b[0m\u001b[0mz\u001b[0m\u001b[1;33m)\u001b[0m\u001b[1;33m\u001b[0m\u001b[1;33m\u001b[0m\u001b[0m\n\u001b[0m",
      "\u001b[1;31mNameError\u001b[0m: name 'z' is not defined"
     ]
    }
   ],
   "source": [
    "#10)\n",
    "z=20\n",
    "print(z)\n",
    "del z\n",
    "print(z)"
   ]
  },
  {
   "cell_type": "code",
   "execution_count": 12,
   "id": "faf0f0b0",
   "metadata": {},
   "outputs": [
    {
     "name": "stdout",
     "output_type": "stream",
     "text": [
      "Enter num1 10\n",
      "Enter num2 12\n",
      "Enter num3 13\n",
      "The largest Number is 13\n"
     ]
    }
   ],
   "source": [
    "#11)\n",
    "def find_largest(num1,num2,num3):\n",
    "    largest=max(num1,num2,num3)\n",
    "    return largest\n",
    "number1=int(input(\"Enter num1 \"))\n",
    "number2=int(input(\"Enter num2 \"))\n",
    "number3=int(input(\"Enter num3 \"))\n",
    "result=find_largest(number1,number2,number3)\n",
    "print(\"The largest Number is\",result)"
   ]
  },
  {
   "cell_type": "code",
   "execution_count": 13,
   "id": "731df9a5",
   "metadata": {},
   "outputs": [
    {
     "name": "stdout",
     "output_type": "stream",
     "text": [
      "Enter the Number of Terms: 10\n",
      "sum of series 55\n"
     ]
    }
   ],
   "source": [
    "#12)\n",
    "n=int(input(\"Enter the Number of Terms: \"))\n",
    "i=1\n",
    "s=0\n",
    "while i<=n:\n",
    "    s=s+i\n",
    "    i=i+1\n",
    "print(\"sum of series\",s)    "
   ]
  },
  {
   "cell_type": "code",
   "execution_count": null,
   "id": "7a8b4162",
   "metadata": {},
   "outputs": [],
   "source": []
  }
 ],
 "metadata": {
  "kernelspec": {
   "display_name": "Python 3 (ipykernel)",
   "language": "python",
   "name": "python3"
  },
  "language_info": {
   "codemirror_mode": {
    "name": "ipython",
    "version": 3
   },
   "file_extension": ".py",
   "mimetype": "text/x-python",
   "name": "python",
   "nbconvert_exporter": "python",
   "pygments_lexer": "ipython3",
   "version": "3.9.13"
  }
 },
 "nbformat": 4,
 "nbformat_minor": 5
}
