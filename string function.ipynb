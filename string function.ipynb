{
 "cells": [
  {
   "cell_type": "code",
   "execution_count": 6,
   "id": "5eb0556f",
   "metadata": {},
   "outputs": [
    {
     "name": "stdout",
     "output_type": "stream",
     "text": [
      "Please select operation-\n",
      "1.rstrip\n",
      "2.split\n",
      "3.islower\n",
      "4.title\n",
      "5.isdecimal\n",
      "6.isupper\n",
      "7.splitlines\n",
      "8.capitalize\n",
      "9.count\n",
      "10.find\n",
      "\n",
      "Select a choice 1,2,3,4,5,6,7,8,9,10: 10\n",
      "Enter the Name:sri\n",
      "Enter the letterr\n",
      "1\n",
      "Do you want continue?(yes/no)no\n"
     ]
    }
   ],
   "source": [
    "def rstrip(name):\n",
    "    return name.rstrip()\n",
    "def split(name):\n",
    "    return name.split()\n",
    "def islower(name):\n",
    "    return name.islower()\n",
    "def title(name):\n",
    "    return name.title()\n",
    "def isdecimal(name):\n",
    "    return name.isdecimal()\n",
    "def isupper(name):\n",
    "    return name.isupper()\n",
    "def splitlines(name):\n",
    "    return name.splitlines()\n",
    "def capitalize(name):\n",
    "    return name.capitalize()\n",
    "def count(name):\n",
    "    return name.count()\n",
    "def find(names):\n",
    "    return name.find(t)\n",
    "print(\"Please select operation-\\n\"\\\n",
    "     \"1.rstrip\\n\"\\\n",
    "     \"2.split\\n\"\\\n",
    "     \"3.islower\\n\"\\\n",
    "     \"4.title\\n\"\\\n",
    "     \"5.isdecimal\\n\"\\\n",
    "     \"6.isupper\\n\"\\\n",
    "     \"7.splitlines\\n\"\\\n",
    "     \"8.capitalize\\n\"\\\n",
    "     \"9.count\\n\"\\\n",
    "     \"10.find\\n\")\n",
    "while True:\n",
    "    select=str(input(\"Select a choice 1,2,3,4,5,6,7,8,9,10: \"))\n",
    "    name=str(input(\"Enter the Name:\"))\n",
    "    if select=='1':\n",
    "        r=str(input(\"Character\"))\n",
    "        print(name.rstrip(r))\n",
    "    elif select=='2':\n",
    "        print(name.split())\n",
    "    elif select=='3':\n",
    "        print(name.islower())\n",
    "    elif select=='4':\n",
    "        print(name.title())\n",
    "    elif select=='5':\n",
    "        print(name.isdecimal())\n",
    "    elif select=='6':\n",
    "        print(name.isupper())\n",
    "    elif select=='7':\n",
    "        print(name.splitlines())\n",
    "    elif select=='8':\n",
    "        print(name.capitalize())\n",
    "    elif select=='9':\n",
    "        s=str(input(\"Which letter you want? \"))\n",
    "        print(name.count(s))\n",
    "    elif select=='10':\n",
    "        t=str(input(\"Enter the letter: \"))\n",
    "        print(name.find(t))\n",
    "    else:\n",
    "        print(\"invalid choise\")\n",
    "    next_answer=input(\"Do you want continue?(yes/no)\")\n",
    "    if next_answer==\"no\":\n",
    "        break"
   ]
  },
  {
   "cell_type": "code",
   "execution_count": null,
   "id": "21eb1c8f",
   "metadata": {},
   "outputs": [],
   "source": []
  },
  {
   "cell_type": "code",
   "execution_count": null,
   "id": "54f6a453",
   "metadata": {},
   "outputs": [],
   "source": []
  }
 ],
 "metadata": {
  "kernelspec": {
   "display_name": "Python 3 (ipykernel)",
   "language": "python",
   "name": "python3"
  },
  "language_info": {
   "codemirror_mode": {
    "name": "ipython",
    "version": 3
   },
   "file_extension": ".py",
   "mimetype": "text/x-python",
   "name": "python",
   "nbconvert_exporter": "python",
   "pygments_lexer": "ipython3",
   "version": "3.9.13"
  }
 },
 "nbformat": 4,
 "nbformat_minor": 5
}
